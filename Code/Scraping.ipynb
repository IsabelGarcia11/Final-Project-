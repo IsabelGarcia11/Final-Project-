{
 "cells": [
  {
   "cell_type": "code",
   "execution_count": 62,
   "id": "b7583724",
   "metadata": {},
   "outputs": [],
   "source": [
    "import requests as req\n",
    "from bs4 import BeautifulSoup as bs\n",
    "import pandas as pd\n",
    "import json\n",
    "import os\n",
    "from dotenv import load_dotenv\n",
    "from sodapy import Socrata\n",
    "import chromedriver_binary\n",
    "#from src.cleaning3 import *\n",
    "import folium\n",
    "from folium.plugins import HeatMapWithTime as HMWT\n",
    "from folium.plugins import HeatMap as HM\n",
    "from folium import plugins\n",
    "import warnings\n",
    "warnings.simplefilter('ignore')"
   ]
  },
  {
   "cell_type": "code",
   "execution_count": 63,
   "id": "5914f7e6",
   "metadata": {},
   "outputs": [],
   "source": [
    "import selenium\n",
    "from selenium import webdriver\n",
    "from selenium.webdriver.chrome.options import Options\n",
    "from selenium.webdriver.common.by import By\n",
    "import time \n",
    "import urllib3"
   ]
  },
  {
   "cell_type": "code",
   "execution_count": 64,
   "id": "96480c7a",
   "metadata": {},
   "outputs": [
    {
     "data": {
      "text/html": [
       "<div>\n",
       "<style scoped>\n",
       "    .dataframe tbody tr th:only-of-type {\n",
       "        vertical-align: middle;\n",
       "    }\n",
       "\n",
       "    .dataframe tbody tr th {\n",
       "        vertical-align: top;\n",
       "    }\n",
       "\n",
       "    .dataframe thead th {\n",
       "        text-align: right;\n",
       "    }\n",
       "</style>\n",
       "<table border=\"1\" class=\"dataframe\">\n",
       "  <thead>\n",
       "    <tr style=\"text-align: right;\">\n",
       "      <th></th>\n",
       "      <th>product</th>\n",
       "      <th>category</th>\n",
       "      <th>date</th>\n",
       "      <th>department</th>\n",
       "      <th>ip</th>\n",
       "      <th>year</th>\n",
       "      <th>month_</th>\n",
       "    </tr>\n",
       "  </thead>\n",
       "  <tbody>\n",
       "    <tr>\n",
       "      <th>0</th>\n",
       "      <td>adidas Brazuca 2017 Official Match Ball</td>\n",
       "      <td>baseball &amp; softball</td>\n",
       "      <td>01/09/2017</td>\n",
       "      <td>fitness</td>\n",
       "      <td>37.97.182.65</td>\n",
       "      <td>2017</td>\n",
       "      <td>9</td>\n",
       "    </tr>\n",
       "    <tr>\n",
       "      <th>1</th>\n",
       "      <td>The North Face Women's Recon Backpack</td>\n",
       "      <td>hunting &amp; shooting</td>\n",
       "      <td>01/09/2017</td>\n",
       "      <td>fan shop</td>\n",
       "      <td>206.56.112.1</td>\n",
       "      <td>2017</td>\n",
       "      <td>9</td>\n",
       "    </tr>\n",
       "    <tr>\n",
       "      <th>2</th>\n",
       "      <td>adidas Kids' RG III Mid Football Cleat</td>\n",
       "      <td>featured shops</td>\n",
       "      <td>01/09/2017</td>\n",
       "      <td>apparel</td>\n",
       "      <td>215.143.180.0</td>\n",
       "      <td>2017</td>\n",
       "      <td>9</td>\n",
       "    </tr>\n",
       "    <tr>\n",
       "      <th>3</th>\n",
       "      <td>Under Armour Men's Compression EV SL Slide</td>\n",
       "      <td>electronics</td>\n",
       "      <td>01/09/2017</td>\n",
       "      <td>footwear</td>\n",
       "      <td>206.56.112.1</td>\n",
       "      <td>2017</td>\n",
       "      <td>9</td>\n",
       "    </tr>\n",
       "    <tr>\n",
       "      <th>4</th>\n",
       "      <td>Pelican Sunstream 100 Kayak</td>\n",
       "      <td>water sports</td>\n",
       "      <td>01/09/2017</td>\n",
       "      <td>fan shop</td>\n",
       "      <td>136.108.56.242</td>\n",
       "      <td>2017</td>\n",
       "      <td>9</td>\n",
       "    </tr>\n",
       "  </tbody>\n",
       "</table>\n",
       "</div>"
      ],
      "text/plain": [
       "                                      product             category  \\\n",
       "0     adidas Brazuca 2017 Official Match Ball  baseball & softball   \n",
       "1       The North Face Women's Recon Backpack   hunting & shooting   \n",
       "2      adidas Kids' RG III Mid Football Cleat       featured shops   \n",
       "3  Under Armour Men's Compression EV SL Slide          electronics   \n",
       "4                 Pelican Sunstream 100 Kayak         water sports   \n",
       "\n",
       "         date department              ip  year  month_  \n",
       "0  01/09/2017   fitness     37.97.182.65  2017       9  \n",
       "1  01/09/2017  fan shop     206.56.112.1  2017       9  \n",
       "2  01/09/2017   apparel    215.143.180.0  2017       9  \n",
       "3  01/09/2017  footwear     206.56.112.1  2017       9  \n",
       "4  01/09/2017  fan shop   136.108.56.242  2017       9  "
      ]
     },
     "execution_count": 64,
     "metadata": {},
     "output_type": "execute_result"
    }
   ],
   "source": [
    "df=pd.read_csv('../DATA/DataCo/token.csv')\n",
    "df.head()"
   ]
  },
  {
   "cell_type": "code",
   "execution_count": 65,
   "id": "86c110ad",
   "metadata": {},
   "outputs": [],
   "source": [
    "#pd.set_option('display.max_rows', None)\n",
    "#df.ip.value_counts()"
   ]
  },
  {
   "cell_type": "code",
   "execution_count": 66,
   "id": "434151d6",
   "metadata": {},
   "outputs": [],
   "source": [
    "def geo(ip):\n",
    "    \n",
    "    url=f'https://tools.keycdn.com/geo?host={ip}' \n",
    "    html=req.get(url).content\n",
    "    soup=bs(html, 'html.parser')   \n",
    "    tabla=soup.find('div', {'id': 'geoResult'})    \n",
    "    for e in tabla.find('dd', {'class': 'col-8 text-monospace'}):    \n",
    "        return e.text"
   ]
  },
  {
   "cell_type": "code",
   "execution_count": 67,
   "id": "51ad417f",
   "metadata": {},
   "outputs": [],
   "source": [
    "DF=df.head()"
   ]
  },
  {
   "cell_type": "code",
   "execution_count": null,
   "id": "2767a13c",
   "metadata": {},
   "outputs": [],
   "source": [
    "df['country_ip']=df['ip'].apply(geo)"
   ]
  },
  {
   "cell_type": "code",
   "execution_count": 69,
   "id": "7fdd6860",
   "metadata": {},
   "outputs": [
    {
     "data": {
      "text/html": [
       "<div>\n",
       "<style scoped>\n",
       "    .dataframe tbody tr th:only-of-type {\n",
       "        vertical-align: middle;\n",
       "    }\n",
       "\n",
       "    .dataframe tbody tr th {\n",
       "        vertical-align: top;\n",
       "    }\n",
       "\n",
       "    .dataframe thead th {\n",
       "        text-align: right;\n",
       "    }\n",
       "</style>\n",
       "<table border=\"1\" class=\"dataframe\">\n",
       "  <thead>\n",
       "    <tr style=\"text-align: right;\">\n",
       "      <th></th>\n",
       "      <th>product</th>\n",
       "      <th>category</th>\n",
       "      <th>date</th>\n",
       "      <th>department</th>\n",
       "      <th>ip</th>\n",
       "      <th>year</th>\n",
       "      <th>month_</th>\n",
       "      <th>country_ip</th>\n",
       "    </tr>\n",
       "  </thead>\n",
       "  <tbody>\n",
       "    <tr>\n",
       "      <th>0</th>\n",
       "      <td>adidas Brazuca 2017 Official Match Ball</td>\n",
       "      <td>baseball &amp; softball</td>\n",
       "      <td>01/09/2017</td>\n",
       "      <td>fitness</td>\n",
       "      <td>37.97.182.65</td>\n",
       "      <td>2017</td>\n",
       "      <td>9</td>\n",
       "      <td>Netherlands (NL)</td>\n",
       "    </tr>\n",
       "    <tr>\n",
       "      <th>1</th>\n",
       "      <td>The North Face Women's Recon Backpack</td>\n",
       "      <td>hunting &amp; shooting</td>\n",
       "      <td>01/09/2017</td>\n",
       "      <td>fan shop</td>\n",
       "      <td>206.56.112.1</td>\n",
       "      <td>2017</td>\n",
       "      <td>9</td>\n",
       "      <td>United States (US)</td>\n",
       "    </tr>\n",
       "    <tr>\n",
       "      <th>2</th>\n",
       "      <td>adidas Kids' RG III Mid Football Cleat</td>\n",
       "      <td>featured shops</td>\n",
       "      <td>01/09/2017</td>\n",
       "      <td>apparel</td>\n",
       "      <td>215.143.180.0</td>\n",
       "      <td>2017</td>\n",
       "      <td>9</td>\n",
       "      <td>United States (US)</td>\n",
       "    </tr>\n",
       "    <tr>\n",
       "      <th>3</th>\n",
       "      <td>Under Armour Men's Compression EV SL Slide</td>\n",
       "      <td>electronics</td>\n",
       "      <td>01/09/2017</td>\n",
       "      <td>footwear</td>\n",
       "      <td>206.56.112.1</td>\n",
       "      <td>2017</td>\n",
       "      <td>9</td>\n",
       "      <td>United States (US)</td>\n",
       "    </tr>\n",
       "    <tr>\n",
       "      <th>4</th>\n",
       "      <td>Pelican Sunstream 100 Kayak</td>\n",
       "      <td>water sports</td>\n",
       "      <td>01/09/2017</td>\n",
       "      <td>fan shop</td>\n",
       "      <td>136.108.56.242</td>\n",
       "      <td>2017</td>\n",
       "      <td>9</td>\n",
       "      <td>United States (US)</td>\n",
       "    </tr>\n",
       "  </tbody>\n",
       "</table>\n",
       "</div>"
      ],
      "text/plain": [
       "                                      product             category  \\\n",
       "0     adidas Brazuca 2017 Official Match Ball  baseball & softball   \n",
       "1       The North Face Women's Recon Backpack   hunting & shooting   \n",
       "2      adidas Kids' RG III Mid Football Cleat       featured shops   \n",
       "3  Under Armour Men's Compression EV SL Slide          electronics   \n",
       "4                 Pelican Sunstream 100 Kayak         water sports   \n",
       "\n",
       "         date department              ip  year  month_          country_ip  \n",
       "0  01/09/2017   fitness     37.97.182.65  2017       9    Netherlands (NL)  \n",
       "1  01/09/2017  fan shop     206.56.112.1  2017       9  United States (US)  \n",
       "2  01/09/2017   apparel    215.143.180.0  2017       9  United States (US)  \n",
       "3  01/09/2017  footwear     206.56.112.1  2017       9  United States (US)  \n",
       "4  01/09/2017  fan shop   136.108.56.242  2017       9  United States (US)  "
      ]
     },
     "execution_count": 69,
     "metadata": {},
     "output_type": "execute_result"
    }
   ],
   "source": [
    "df"
   ]
  },
  {
   "cell_type": "code",
   "execution_count": null,
   "id": "6808ed8b",
   "metadata": {},
   "outputs": [],
   "source": [
    "opciones=Options()\n",
    "\n",
    "opciones.add_experimental_option('excludeSwitches', ['enable-automation'])\n",
    "opciones.add_experimental_option('useAutomationExtension', False)\n",
    "opciones.headless=False  \n",
    "opciones.add_argument('--start-maximized')               \n",
    "opciones.add_argument('--incognito')\n",
    "opciones.add_argument(\"--no-sandbox\")\n",
    "opciones.add_argument(\"--disable-setuid-sandbox\")"
   ]
  },
  {
   "cell_type": "code",
   "execution_count": null,
   "id": "0fb1ca49",
   "metadata": {},
   "outputs": [],
   "source": [
    "PATH= \"./chromedriver.exe\"\n",
    "driver = webdriver.Chrome(PATH,options = opciones)\n",
    "driver.get('https://tools.keycdn.com/geo')"
   ]
  },
  {
   "cell_type": "markdown",
   "id": "a386774a",
   "metadata": {},
   "source": [
    "for i in range(len(df['url'])):\n"
   ]
  },
  {
   "cell_type": "code",
   "execution_count": 31,
   "id": "aa472441",
   "metadata": {},
   "outputs": [
    {
     "name": "stderr",
     "output_type": "stream",
     "text": [
      "<ipython-input-31-6b9b954ccb0e>:2: DeprecationWarning: find_element_by_* commands are deprecated. Please use find_element() instead\n",
      "  driver.find_element_by_id('host').clear() #borramos lo que hay\n",
      "<ipython-input-31-6b9b954ccb0e>:3: DeprecationWarning: find_element_by_* commands are deprecated. Please use find_element() instead\n",
      "  driver.find_element_by_id('host').send_keys(\"37.97.182.65\") #introducimos valor\n",
      "<ipython-input-31-6b9b954ccb0e>:4: DeprecationWarning: find_element_by_* commands are deprecated. Please use find_element() instead\n",
      "  boton = driver.find_element_by_xpath(\"/html/body/section[1]/div/div/div/div[3]/form/div/div[2]/button\") #boton\n"
     ]
    },
    {
     "name": "stdout",
     "output_type": "stream",
     "text": [
      "[<selenium.webdriver.remote.webelement.WebElement (session=\"8547bcf0b09304c33962d8daad1ff079\", element=\"a5df0bdf-bef3-4dea-820c-a0b736a9ff57\")>]\n"
     ]
    },
    {
     "name": "stderr",
     "output_type": "stream",
     "text": [
      "<ipython-input-31-6b9b954ccb0e>:7: DeprecationWarning: find_elements_by_* commands are deprecated. Please use find_elements() instead\n",
      "  tablita=driver.find_elements_by_xpath('/html/body/section[1]/div/div/div/div[3]/div[2]/div[1]/dl[1]/dd[1]')  #country\n"
     ]
    },
    {
     "data": {
      "text/plain": [
       "\"tab=tablita.text.split('\\n')\\n\\nip.append(tab)\""
      ]
     },
     "execution_count": 31,
     "metadata": {},
     "output_type": "execute_result"
    }
   ],
   "source": [
    "#ip=[]\n",
    "driver.find_element_by_id('host').clear() #borramos lo que hay\n",
    "driver.find_element_by_id('host').send_keys(\"37.97.182.65\") #introducimos valor \n",
    "boton = driver.find_element_by_xpath(\"/html/body/section[1]/div/div/div/div[3]/form/div/div[2]/button\") #boton\n",
    "boton.click()\n",
    "time.sleep(2)\n",
    "tablita=driver.find_elements_by_xpath('/html/body/section[1]/div/div/div/div[3]/div[2]/div[1]/dl[1]/dd[1]')  #country\n",
    "print(tablita)\n",
    "'''tab=tablita.text.split('\\n')\n",
    "\n",
    "ip.append(tab)'''\n"
   ]
  },
  {
   "cell_type": "code",
   "execution_count": 11,
   "id": "adfeee7d",
   "metadata": {},
   "outputs": [
    {
     "data": {
      "text/plain": [
       "[]"
      ]
     },
     "execution_count": 11,
     "metadata": {},
     "output_type": "execute_result"
    }
   ],
   "source": [
    "/html/body/section[1]/div/div/div/div[3]/div[2]/div[1]/dl[1]/dd[1]\n",
    "\n",
    "tablita=driver.find_elements_by_class_name('col-8 text-monospace')"
   ]
  },
  {
   "cell_type": "code",
   "execution_count": null,
   "id": "9b9a4185",
   "metadata": {},
   "outputs": [],
   "source": []
  }
 ],
 "metadata": {
  "kernelspec": {
   "display_name": "Kaggle",
   "language": "python",
   "name": "kaggle"
  },
  "language_info": {
   "codemirror_mode": {
    "name": "ipython",
    "version": 3
   },
   "file_extension": ".py",
   "mimetype": "text/x-python",
   "name": "python",
   "nbconvert_exporter": "python",
   "pygments_lexer": "ipython3",
   "version": "3.8.5"
  }
 },
 "nbformat": 4,
 "nbformat_minor": 5
}
